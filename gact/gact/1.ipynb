{
 "cells": [
  {
   "cell_type": "code",
   "execution_count": null,
   "id": "e338bb26-0246-4c5d-95cc-6e87b90e4610",
   "metadata": {},
   "outputs": [],
   "source": [
    "解决的问题：重写了一个专门针对频域转换的量化算子，图像空间域转为频域，和频域转回空间域的前反向传播处理。conv\\bn\\act和linear分别处理。反量化前数据还原。\n",
    "\n",
    "其他方法：4bit量化不收敛，至少8bit。\n",
    "2bit和4bit都能收敛。\n",
    "压缩比能提升大约一倍。\n",
    "batchsize提升20%左右\n",
    "\n",
    "RuntimeError: Input type (torch.FloatTensor) and weight type (torch.cuda.FloatTensor) should be the same or input should be a MKLDNN tensor and weight is a dense tensor"
   ]
  },
  {
   "cell_type": "code",
   "execution_count": null,
   "id": "ea9cd570-eb78-4690-8fe0-0e3821fcdc93",
   "metadata": {},
   "outputs": [],
   "source": [
    "root@autodl-container-b8bc118052-4885718e:~/zcy/myACT/benchmark/vision# python train.py --data ~/autodl-tmp/cifar-100-python/ --arch resnet50 --batch-size 256 --get_mem\n",
    "=> creating model 'resnet50'\n",
    "========== Model Only ===========\n",
    "allocated: 107.23 MB\n",
    "reserved:  118.00 MB\n",
    "Files already downloaded and verified\n",
    "========== Init Data Loader ===========\n",
    "allocated: 110.23 MB\n",
    "reserved:  118.00 MB\n",
    "========== Before Backward ===========\n",
    "allocated: 539.39 MB\n",
    "reserved:  684.00 MB\n",
    "========== After Backward ===========\n",
    "allocated: 314.82 MB\n",
    "reserved:  440.00 MB\n",
    "Batch size: 256 Total Mem: 743.98 MB    Act Mem: 428.18 MB      Ref Mem: 224.57 Peak Mem: 7677.86\n",
    "Save exp results to mem_results.json\n",
    "root@autodl-container-b8bc118052-4885718e:~/zcy/myACT/benchmark/vision# python train.py --data ~/autodl-tmp/cifar-100-python/ --arch resnet50 --batch-size 256 --benchmark gact --alg L1.1 --get_mem\n",
    "=> creating model 'resnet50'\n",
    "========== Model Only ===========\n",
    "allocated: 107.23 MB\n",
    "reserved:  118.00 MB\n",
    "Files already downloaded and verified\n",
    "========== Init Data Loader ===========\n",
    "allocated: 110.23 MB\n",
    "reserved:  118.00 MB\n",
    "/root/miniconda3/lib/python3.8/site-packages/torch/nn/functional.py:4023: UserWarning: nn.functional.upsample_nearest is deprecated. Use nn.functional.interpolate instead.\n",
    "  warnings.warn(\"nn.functional.upsample_nearest is deprecated. Use nn.functional.interpolate instead.\")\n",
    "========== Before Backward ===========\n",
    "allocated: 388.38 MB\n",
    "reserved:  524.00 MB\n",
    "GACT: Initializing AutoPrec..., run extra 159 iters\n",
    "========== After Backward ===========\n",
    "allocated: 316.45 MB\n",
    "reserved:  978.00 MB\n",
    "Batch size: 256 Total Mem: 594.59 MB    Act Mem: 277.17 MB      Ref Mem: 71.93  Peak Mem: 7522.92\n",
    "Save exp results to mem_results.json\n",
    "root@autodl-container-b8bc118052-4885718e:~/zcy/myACT/benchmark/vision# python train.py --data ~/autodl-tmp/cifar-100-python/ --arch resnet50 --batch-size 256 --benchmark gact --alg L1.1 --get_mem\n",
    "=> creating model 'resnet50'\n",
    "========== Model Only ===========\n",
    "allocated: 107.23 MB\n",
    "reserved:  118.00 MB\n",
    "Files already downloaded and verified\n",
    "========== Init Data Loader ===========\n",
    "allocated: 110.23 MB\n",
    "reserved:  118.00 MB\n",
    "========== Before Backward ===========\n",
    "allocated: 303.79 MB\n",
    "reserved:  468.00 MB\n",
    "GACT: Initializing AutoPrec..., run extra 159 iters\n",
    "========== After Backward ===========\n",
    "allocated: 316.20 MB\n",
    "reserved:  994.00 MB\n",
    "Batch size: 256 Total Mem: 509.76 MB    Act Mem: 192.59 MB      Ref Mem: -12.41 Peak Mem: 7455.62\n",
    "Save exp results to mem_results.json"
   ]
  }
 ],
 "metadata": {
  "kernelspec": {
   "display_name": "Python 3 (ipykernel)",
   "language": "python",
   "name": "python3"
  },
  "language_info": {
   "codemirror_mode": {
    "name": "ipython",
    "version": 3
   },
   "file_extension": ".py",
   "mimetype": "text/x-python",
   "name": "python",
   "nbconvert_exporter": "python",
   "pygments_lexer": "ipython3",
   "version": "3.8.10"
  }
 },
 "nbformat": 4,
 "nbformat_minor": 5
}
