{
 "cells": [
  {
   "cell_type": "code",
   "execution_count": null,
   "id": "e338bb26-0246-4c5d-95cc-6e87b90e4610",
   "metadata": {},
   "outputs": [],
   "source": [
    "解决的问题：重写了一个专门针对频域转换的量化算子，图像空间域转为频域，和频域转回空间域的前反向传播处理。conv\\bn\\act和linear分别处理。反量化前数据还原。\n",
    "\n",
    "其他方法：4bit量化不收敛，至少8bit。\n",
    "2bit和4bit都能收敛。\n",
    "压缩比能提升大约一倍。\n",
    "batchsize提升20%左右\n",
    "\n",
    "RuntimeError: Input type (torch.FloatTensor) and weight type (torch.cuda.FloatTensor) should be the same or input should be a MKLDNN tensor and weight is a dense tensor"
   ]
  },
  {
   "cell_type": "code",
   "execution_count": null,
   "id": "ea9cd570-eb78-4690-8fe0-0e3821fcdc93",
   "metadata": {},
   "outputs": [],
   "source": [
    "root@autodl-container-88694897d9-ee74d2ed:~/zcy/myACT/benchmark/vision# python train.py --data ~/autodl-tmp/cifar-100-python/ --arch resnet50 --batch-size 256 --benchmark gact --alg L1.1 --get_mem\n",
    "=> creating model 'resnet50'\n",
    "========== Model Only ===========\n",
    "allocated: 107.23 MB\n",
    "reserved:  118.00 MB\n",
    "Files already downloaded and verified\n",
    "========== Init Data Loader ===========\n",
    "allocated: 110.23 MB\n",
    "reserved:  118.00 MB\n",
    "========== Before Backward ===========\n",
    "allocated: 303.79 MB\n",
    "reserved:  468.00 MB\n",
    "GACT: Initializing AutoPrec..., run extra 159 iters\n",
    "========== After Backward ===========\n",
    "allocated: 316.95 MB\n",
    "reserved:  904.00 MB\n",
    "Batch size: 256 Total Mem: 510.51 MB    Act Mem: 192.59 MB      Ref Mem: -13.16 Peak Mem: 20011.55\n",
    "\n",
    "root@autodl-container-88694897d9-ee74d2ed:~/zcy/myACT/benchmark/vision# python train.py --data ~/autodl-tmp/cifar-100-python/ --arch resnet50 --batch-size 256 --get_mem\n",
    "=> creating model 'resnet50'\n",
    "========== Model Only ===========\n",
    "allocated: 107.23 MB\n",
    "reserved:  118.00 MB\n",
    "Files already downloaded and verified\n",
    "========== Init Data Loader ===========\n",
    "allocated: 110.23 MB\n",
    "reserved:  118.00 MB\n",
    "========== Before Backward ===========\n",
    "allocated: 539.39 MB\n",
    "reserved:  684.00 MB\n",
    "========== After Backward ===========\n",
    "allocated: 315.07 MB\n",
    "reserved:  504.00 MB\n",
    "Batch size: 256 Total Mem: 744.23 MB    Act Mem: 428.18 MB      Ref Mem: 224.32 Peak Mem: 20232.36"
   ]
  }
 ],
 "metadata": {
  "kernelspec": {
   "display_name": "Python 3 (ipykernel)",
   "language": "python",
   "name": "python3"
  },
  "language_info": {
   "codemirror_mode": {
    "name": "ipython",
    "version": 3
   },
   "file_extension": ".py",
   "mimetype": "text/x-python",
   "name": "python",
   "nbconvert_exporter": "python",
   "pygments_lexer": "ipython3",
   "version": "3.8.10"
  }
 },
 "nbformat": 4,
 "nbformat_minor": 5
}
